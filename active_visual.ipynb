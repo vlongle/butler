{
 "cells": [
  {
   "cell_type": "code",
   "execution_count": 5,
   "metadata": {},
   "outputs": [],
   "source": [
    "import gymnasium as gym\n",
    "import panda_gym"
   ]
  },
  {
   "cell_type": "code",
   "execution_count": 6,
   "metadata": {},
   "outputs": [
    {
     "name": "stdout",
     "output_type": "stream",
     "text": [
      "argv[0]=--background_color_red=0.8745098114013672\n",
      "argv[1]=\n",
      "argv[2]=\n",
      "argv[3]=\n",
      "argv[4]=\n",
      "argv[5]=\n",
      "argv[6]=\n",
      "argv[7]=\n",
      "argv[8]=\n",
      "argv[9]=\n",
      "argv[10]=\n",
      "argv[11]=\n",
      "argv[12]=\n",
      "argv[13]=\n",
      "argv[14]=\n",
      "argv[15]=\n",
      "argv[16]=\n",
      "argv[17]=\n",
      "argv[18]=\n",
      "argv[19]=\n",
      "argv[20]=\n",
      "argv[21]=--background_color_green=0.21176470816135406\n",
      "argv[22]=\n",
      "argv[23]=\n",
      "argv[24]=\n",
      "argv[25]=\n",
      "argv[26]=\n",
      "argv[27]=\n",
      "argv[28]=\n",
      "argv[29]=\n",
      "argv[30]=\n",
      "argv[31]=\n",
      "argv[32]=\n",
      "argv[33]=\n",
      "argv[34]=\n",
      "argv[35]=\n",
      "argv[36]=\n",
      "argv[37]=\n",
      "argv[38]=\n",
      "argv[39]=\n",
      "argv[40]=\n",
      "argv[41]=\n",
      "argv[42]=--background_color_blue=0.1764705926179886\n"
     ]
    }
   ],
   "source": [
    "env = gym.make('PandaReach-v3', render=False)"
   ]
  },
  {
   "cell_type": "code",
   "execution_count": null,
   "metadata": {},
   "outputs": [],
   "source": []
  }
 ],
 "metadata": {
  "kernelspec": {
   "display_name": "Python 3.9.13 ('attributes')",
   "language": "python",
   "name": "python3"
  },
  "language_info": {
   "codemirror_mode": {
    "name": "ipython",
    "version": 3
   },
   "file_extension": ".py",
   "mimetype": "text/x-python",
   "name": "python",
   "nbconvert_exporter": "python",
   "pygments_lexer": "ipython3",
   "version": "3.9.13"
  },
  "orig_nbformat": 4,
  "vscode": {
   "interpreter": {
    "hash": "6118dbaed5b793d3b2f6bd09326d5c151cd19b453307de961da0a230b9dc8f9b"
   }
  }
 },
 "nbformat": 4,
 "nbformat_minor": 2
}
