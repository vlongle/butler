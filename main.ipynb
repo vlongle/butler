{
 "cells": [
  {
   "cell_type": "code",
   "execution_count": 1,
   "metadata": {},
   "outputs": [
    {
     "name": "stderr",
     "output_type": "stream",
     "text": [
      "pybullet build time: May 20 2022 19:45:31\n"
     ]
    },
    {
     "name": "stdout",
     "output_type": "stream",
     "text": [
      "argv[0]=--background_color_red=0.8745098114013672\n",
      "argv[1]=\n",
      "argv[2]=\n",
      "argv[3]=\n",
      "argv[4]=\n",
      "argv[5]=\n",
      "argv[6]=\n",
      "argv[7]=\n",
      "argv[8]=\n",
      "argv[9]=\n",
      "argv[10]=\n",
      "argv[11]=\n",
      "argv[12]=\n",
      "argv[13]=\n",
      "argv[14]=\n",
      "argv[15]=\n",
      "argv[16]=\n",
      "argv[17]=\n",
      "argv[18]=\n",
      "argv[19]=\n",
      "argv[20]=\n",
      "argv[21]=--background_color_green=0.21176470816135406\n",
      "argv[22]=\n",
      "argv[23]=\n",
      "argv[24]=\n",
      "argv[25]=\n",
      "argv[26]=\n",
      "argv[27]=\n",
      "argv[28]=\n",
      "argv[29]=\n",
      "argv[30]=\n",
      "argv[31]=\n",
      "argv[32]=\n",
      "argv[33]=\n",
      "argv[34]=\n",
      "argv[35]=\n",
      "argv[36]=\n",
      "argv[37]=\n",
      "argv[38]=\n",
      "argv[39]=\n",
      "argv[40]=\n",
      "argv[41]=\n",
      "argv[42]=--background_color_blue=0.1764705926179886\n"
     ]
    }
   ],
   "source": [
    "\n",
    "import torch\n",
    "from panda_butler.envs.butler_tasks import ButlerStackEnv\n",
    "from butler.utils import show_video\n",
    "from pl_bolts.models.detection.faster_rcnn.faster_rcnn_module import FasterRCNN\n",
    "import numpy as np\n",
    "import time\n",
    "import cv2\n",
    "\n",
    "import gymnasium as gym\n",
    "import panda_gym\n",
    "import matplotlib.pyplot as plt\n",
    "\n",
    "render = False\n",
    "#env = gym.make(\"PandaStack-v3\", render=True)\n",
    "env = ButlerStackEnv(render=render)"
   ]
  },
  {
   "cell_type": "code",
   "execution_count": 2,
   "metadata": {},
   "outputs": [
    {
     "name": "stdout",
     "output_type": "stream",
     "text": [
      "FPS:  34.09338015346599\n",
      "FPS:  36.293895210487605\n",
      "FPS:  36.55995258184861\n",
      "FPS:  35.842625192274824\n",
      "FPS:  36.31809365475201\n",
      "FPS:  36.49410515874742\n",
      "FPS:  36.52111523257231\n",
      "FPS:  36.57780723479959\n",
      "FPS:  36.211485996477535\n",
      "FPS:  36.208047376099586\n"
     ]
    }
   ],
   "source": [
    "# from pl_bolts.models.detection.retinanet.retinanet_module import RetinaNet\n",
    "\n",
    "observation, info = env.reset()\n",
    "pos = env.sim.get_base_position(env.robot.body_name)\n",
    "pos += np.array([0.5, 0.0, 0.0])\n",
    "\n",
    "roll = 0.0\n",
    "pitch = -30\n",
    "yaw = 0.0\n",
    "distance = 0.5\n",
    "\n",
    "width = 224\n",
    "height = 224\n",
    "\n",
    "frames = []\n",
    "segs=[]\n",
    "T = 10\n",
    "t = time.time()\n",
    "for _ in range(T):\n",
    "    # action = env.action_space.sample() # random action\n",
    "    action = np.zeros(env.action_space.shape)\n",
    "    observation, reward, terminated, truncated, info = env.step(action)\n",
    "    ret = env.render(mode='rgb_array',\n",
    "                             width=width,\n",
    "                             height=height,\n",
    "                             target_position=pos,\n",
    "                             pitch=pitch,\n",
    "                             roll=roll,\n",
    "                             yaw=yaw,\n",
    "                             distance=distance)\n",
    "    frames.append(ret[\"rgb\"])\n",
    "    segs.append(ret[\"seg\"])\n",
    "    print(\"FPS: \", 1/(time.time()-t))\n",
    "    t = time.time()\n",
    "\n",
    "# model = FasterRCNN(pretrained=True, num_classes=2)\n",
    "# # model = RetinaNet(pretrained=True, num_classes=2)\n",
    "# model.eval()\n",
    "# img = frames[0]\n",
    "# # throw away alpha channel\n",
    "# img = img[:, :, :3]\n",
    "# print('shape works', img.shape)\n",
    "# with torch.no_grad():\n",
    "#     X = torch.Tensor(img)\n",
    "#     X = X.permute(2, 0, 1)\n",
    "#     X = X.unsqueeze(0)\n",
    "#     y = model(X)\n",
    "#     boxes = y[0]['boxes']\n",
    "#     labels = y[0]['labels']\n",
    "#     print('Number of boxes', len(boxes))\n",
    "#     im_arr_bgr = cv2.cvtColor(img, cv2.COLOR_RGB2BGR)\n",
    "#     # draw boxes on image\n",
    "#     for box in boxes:\n",
    "#         x1, y1, x2, y2 = box\n",
    "#         # convert to int\n",
    "#         x1, y1, x2, y2 = int(x1), int(y1), int(x2), int(y2)\n",
    "#         print('boxes:', x1, y1, x2, y2)\n",
    "#         # convert img (M, N, 3) to the expected format for cv2.rectangle \n",
    "#         cv2.rectangle(im_arr_bgr, (x1, y1), (x2, y2), (0, 255, 0), 2)\n",
    "# plt.imshow(im_arr_bgr)\n",
    "    "
   ]
  },
  {
   "cell_type": "code",
   "execution_count": 3,
   "metadata": {},
   "outputs": [
    {
     "data": {
      "text/plain": [
       "<matplotlib.image.AxesImage at 0x7ff6a7933f10>"
      ]
     },
     "execution_count": 3,
     "metadata": {},
     "output_type": "execute_result"
    },
    {
     "data": {
      "image/png": "[encoded data removed]",
      "text/plain": [
       "<Figure size 640x480 with 1 Axes>"
      ]
     },
     "metadata": {},
     "output_type": "display_data"
    }
   ],
   "source": [
    "plt.imshow(segs[0])"
   ]
  },
  {
   "cell_type": "code",
   "execution_count": 4,
   "metadata": {},
   "outputs": [
    {
     "data": {
      "text/plain": [
       "<matplotlib.image.AxesImage at 0x7ff6a7837880>"
      ]
     },
     "execution_count": 4,
     "metadata": {},
     "output_type": "execute_result"
    },
    {
     "data": {
      "image/png": "[encoded data removed]",
      "text/plain": [
       "<Figure size 640x480 with 1 Axes>"
      ]
     },
     "metadata": {},
     "output_type": "display_data"
    }
   ],
   "source": [
    "plt.imshow(frames[0])"
   ]
  },
  {
   "cell_type": "code",
   "execution_count": 5,
   "metadata": {},
   "outputs": [
    {
     "data": {
      "text/plain": [
       "array([[5, 5, 5, 5, 5, 5, 5, 5, 5, 5, 5, 2, 2, 2, 2, 2, 2, 2, 2, 2, 2, 2,\n",
       "        2, 2, 2],\n",
       "       [5, 5, 5, 5, 5, 5, 5, 5, 5, 5, 5, 2, 2, 2, 2, 2, 2, 2, 2, 2, 2, 2,\n",
       "        2, 2, 2],\n",
       "       [5, 5, 5, 5, 5, 5, 5, 5, 5, 5, 2, 2, 2, 2, 2, 2, 2, 2, 2, 2, 2, 2,\n",
       "        2, 2, 2],\n",
       "       [5, 5, 5, 5, 5, 5, 5, 5, 5, 5, 2, 2, 2, 2, 2, 2, 2, 2, 2, 2, 2, 2,\n",
       "        2, 2, 2],\n",
       "       [3, 3, 3, 3, 3, 3, 3, 3, 3, 3, 2, 2, 2, 2, 2, 2, 2, 2, 2, 2, 2, 2,\n",
       "        2, 2, 2],\n",
       "       [3, 3, 3, 3, 3, 3, 3, 3, 3, 3, 2, 2, 2, 2, 2, 2, 2, 2, 2, 2, 2, 2,\n",
       "        2, 2, 2],\n",
       "       [3, 3, 3, 3, 3, 3, 3, 3, 3, 3, 2, 2, 2, 2, 2, 2, 2, 2, 2, 2, 2, 2,\n",
       "        2, 2, 2],\n",
       "       [3, 3, 3, 3, 3, 3, 3, 3, 3, 3, 2, 2, 2, 2, 2, 2, 2, 2, 2, 2, 2, 2,\n",
       "        2, 2, 2],\n",
       "       [3, 3, 3, 3, 3, 3, 3, 3, 3, 3, 2, 2, 2, 2, 2, 2, 2, 2, 2, 2, 2, 2,\n",
       "        2, 2, 2],\n",
       "       [3, 3, 3, 3, 3, 3, 3, 3, 3, 2, 2, 2, 2, 2, 2, 2, 2, 2, 2, 2, 2, 2,\n",
       "        2, 2, 2]], dtype=int32)"
      ]
     },
     "execution_count": 5,
     "metadata": {},
     "output_type": "execute_result"
    }
   ],
   "source": [
    "segs[0][115:125, 150:175]"
   ]
  },
  {
   "cell_type": "code",
   "execution_count": 6,
   "metadata": {},
   "outputs": [
    {
     "data": {
      "text/plain": [
       "<matplotlib.image.AxesImage at 0x7ff6a77b0e50>"
      ]
     },
     "execution_count": 6,
     "metadata": {},
     "output_type": "execute_result"
    },
    {
     "data": {
      "image/png": "[encoded data removed]",
      "text/plain": [
       "<Figure size 640x480 with 1 Axes>"
      ]
     },
     "metadata": {},
     "output_type": "display_data"
    }
   ],
   "source": [
    "plt.imshow(segs[0][100:125, 150:175])"
   ]
  },
  {
   "cell_type": "code",
   "execution_count": 7,
   "metadata": {},
   "outputs": [
    {
     "name": "stdout",
     "output_type": "stream",
     "text": [
      "98 131 141 161\n"
     ]
    },
    {
     "data": {
      "text/plain": [
       "<matplotlib.image.AxesImage at 0x7ff6a772ca30>"
      ]
     },
     "execution_count": 7,
     "metadata": {},
     "output_type": "execute_result"
    },
    {
     "data": {
      "image/png": "[encoded data removed]",
      "text/plain": [
       "<Figure size 640x480 with 1 Axes>"
      ]
     },
     "metadata": {},
     "output_type": "display_data"
    }
   ],
   "source": [
    "obj = 5\n",
    "obj2 = 3\n",
    "# mask out everything except the obj and obj2\n",
    "mask = np.logical_or(segs[0] == obj, segs[0] == obj2)\n",
    "# get the bounding box of the mask\n",
    "y, x = np.where(mask)\n",
    "y1, y2 = y.min(), y.max()\n",
    "x1, x2 = x.min(), x.max()\n",
    "# print the bounding box\n",
    "print(y1, y2, x1, x2)\n",
    "\n",
    "\n",
    "im_arr_bgr = cv2.cvtColor(frames[0], cv2.COLOR_RGB2BGR)\n",
    "cv2.rectangle(im_arr_bgr, (x1, y1), (x2, y2), (0, 255, 0), 2)\n",
    "plt.imshow(im_arr_bgr)"
   ]
  },
  {
   "cell_type": "code",
   "execution_count": null,
   "metadata": {},
   "outputs": [],
   "source": []
  }
 ],
 "metadata": {
  "kernelspec": {
   "display_name": "Python 3.9.13 ('attributes')",
   "language": "python",
   "name": "python3"
  },
  "language_info": {
   "codemirror_mode": {
    "name": "ipython",
    "version": 3
   },
   "file_extension": ".py",
   "mimetype": "text/x-python",
   "name": "python",
   "nbconvert_exporter": "python",
   "pygments_lexer": "ipython3",
   "version": "3.9.13"
  },
  "orig_nbformat": 4,
  "vscode": {
   "interpreter": {
    "hash": "6118dbaed5b793d3b2f6bd09326d5c151cd19b453307de961da0a230b9dc8f9b"
   }
  }
 },
 "nbformat": 4,
 "nbformat_minor": 2
}
